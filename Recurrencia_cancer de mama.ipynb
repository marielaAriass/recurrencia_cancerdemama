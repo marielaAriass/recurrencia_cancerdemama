{
 "cells": [
  {
   "cell_type": "code",
   "execution_count": 211,
   "id": "29f717b6",
   "metadata": {},
   "outputs": [],
   "source": [
    "#https://archive.ics.uci.edu/ml/datasets/Breast+Cancer"
   ]
  },
  {
   "cell_type": "markdown",
   "id": "5d29b1fe",
   "metadata": {},
   "source": [
    "### Modelos y herrmientas"
   ]
  },
  {
   "cell_type": "code",
   "execution_count": 1,
   "id": "1bec0d04",
   "metadata": {},
   "outputs": [],
   "source": [
    "#Herramientas\n",
    "import pandas as pd\n",
    "import numpy as np\n",
    "import matplotlib.pyplot as plt\n",
    "import seaborn as sns\n",
    "import warnings\n",
    "warnings.filterwarnings('ignore')\n",
    "from sklearn import preprocessing\n",
    "from sklearn.model_selection import train_test_split \n",
    "from sklearn.preprocessing import StandardScaler\n",
    "from sklearn.preprocessing import LabelEncoder\n",
    "from sklearn import model_selection\n",
    "from sklearn.model_selection import StratifiedKFold\n",
    "#Metricas\n",
    "from sklearn.metrics import confusion_matrix\n",
    "from sklearn.metrics import accuracy_score, classification_report\n",
    "from sklearn.metrics import roc_curve, auc\n",
    "from sklearn.metrics import roc_auc_score\n",
    "from sklearn import metrics\n",
    "#Modelos\n",
    "from sklearn.neighbors import KNeighborsClassifier\n",
    "from sklearn.svm import SVC\n",
    "from sklearn.linear_model import LogisticRegression"
   ]
  },
  {
   "cell_type": "markdown",
   "id": "39c725ba",
   "metadata": {},
   "source": [
    "### Datos"
   ]
  },
  {
   "cell_type": "code",
   "execution_count": 2,
   "id": "06ce6d53",
   "metadata": {},
   "outputs": [
    {
     "data": {
      "text/html": [
       "<div>\n",
       "<style scoped>\n",
       "    .dataframe tbody tr th:only-of-type {\n",
       "        vertical-align: middle;\n",
       "    }\n",
       "\n",
       "    .dataframe tbody tr th {\n",
       "        vertical-align: top;\n",
       "    }\n",
       "\n",
       "    .dataframe thead th {\n",
       "        text-align: right;\n",
       "    }\n",
       "</style>\n",
       "<table border=\"1\" class=\"dataframe\">\n",
       "  <thead>\n",
       "    <tr style=\"text-align: right;\">\n",
       "      <th></th>\n",
       "      <th>clase</th>\n",
       "      <th>edad</th>\n",
       "      <th>menopausia</th>\n",
       "      <th>tamaño_tumor</th>\n",
       "      <th>inv_nodos</th>\n",
       "      <th>nodo_caps</th>\n",
       "      <th>deg-malig</th>\n",
       "      <th>pecho</th>\n",
       "      <th>pecho_c</th>\n",
       "      <th>irradiat</th>\n",
       "    </tr>\n",
       "  </thead>\n",
       "  <tbody>\n",
       "    <tr>\n",
       "      <th>0</th>\n",
       "      <td>no-recurrence-events</td>\n",
       "      <td>30-39</td>\n",
       "      <td>premeno</td>\n",
       "      <td>30-34</td>\n",
       "      <td>0-2</td>\n",
       "      <td>no</td>\n",
       "      <td>3</td>\n",
       "      <td>left</td>\n",
       "      <td>left_low</td>\n",
       "      <td>no</td>\n",
       "    </tr>\n",
       "    <tr>\n",
       "      <th>1</th>\n",
       "      <td>no-recurrence-events</td>\n",
       "      <td>40-49</td>\n",
       "      <td>premeno</td>\n",
       "      <td>20-24</td>\n",
       "      <td>0-2</td>\n",
       "      <td>no</td>\n",
       "      <td>2</td>\n",
       "      <td>right</td>\n",
       "      <td>right_up</td>\n",
       "      <td>no</td>\n",
       "    </tr>\n",
       "    <tr>\n",
       "      <th>2</th>\n",
       "      <td>no-recurrence-events</td>\n",
       "      <td>40-49</td>\n",
       "      <td>premeno</td>\n",
       "      <td>20-24</td>\n",
       "      <td>0-2</td>\n",
       "      <td>no</td>\n",
       "      <td>2</td>\n",
       "      <td>left</td>\n",
       "      <td>left_low</td>\n",
       "      <td>no</td>\n",
       "    </tr>\n",
       "    <tr>\n",
       "      <th>3</th>\n",
       "      <td>no-recurrence-events</td>\n",
       "      <td>60-69</td>\n",
       "      <td>ge40</td>\n",
       "      <td>15-19</td>\n",
       "      <td>0-2</td>\n",
       "      <td>no</td>\n",
       "      <td>2</td>\n",
       "      <td>right</td>\n",
       "      <td>left_up</td>\n",
       "      <td>no</td>\n",
       "    </tr>\n",
       "    <tr>\n",
       "      <th>4</th>\n",
       "      <td>no-recurrence-events</td>\n",
       "      <td>40-49</td>\n",
       "      <td>premeno</td>\n",
       "      <td>0-4</td>\n",
       "      <td>0-2</td>\n",
       "      <td>no</td>\n",
       "      <td>2</td>\n",
       "      <td>right</td>\n",
       "      <td>right_low</td>\n",
       "      <td>no</td>\n",
       "    </tr>\n",
       "    <tr>\n",
       "      <th>...</th>\n",
       "      <td>...</td>\n",
       "      <td>...</td>\n",
       "      <td>...</td>\n",
       "      <td>...</td>\n",
       "      <td>...</td>\n",
       "      <td>...</td>\n",
       "      <td>...</td>\n",
       "      <td>...</td>\n",
       "      <td>...</td>\n",
       "      <td>...</td>\n",
       "    </tr>\n",
       "    <tr>\n",
       "      <th>281</th>\n",
       "      <td>recurrence-events</td>\n",
       "      <td>30-39</td>\n",
       "      <td>premeno</td>\n",
       "      <td>30-34</td>\n",
       "      <td>0-2</td>\n",
       "      <td>no</td>\n",
       "      <td>2</td>\n",
       "      <td>left</td>\n",
       "      <td>left_up</td>\n",
       "      <td>no</td>\n",
       "    </tr>\n",
       "    <tr>\n",
       "      <th>282</th>\n",
       "      <td>recurrence-events</td>\n",
       "      <td>30-39</td>\n",
       "      <td>premeno</td>\n",
       "      <td>20-24</td>\n",
       "      <td>0-2</td>\n",
       "      <td>no</td>\n",
       "      <td>3</td>\n",
       "      <td>left</td>\n",
       "      <td>left_up</td>\n",
       "      <td>yes</td>\n",
       "    </tr>\n",
       "    <tr>\n",
       "      <th>283</th>\n",
       "      <td>recurrence-events</td>\n",
       "      <td>60-69</td>\n",
       "      <td>ge40</td>\n",
       "      <td>20-24</td>\n",
       "      <td>0-2</td>\n",
       "      <td>no</td>\n",
       "      <td>1</td>\n",
       "      <td>right</td>\n",
       "      <td>left_up</td>\n",
       "      <td>no</td>\n",
       "    </tr>\n",
       "    <tr>\n",
       "      <th>284</th>\n",
       "      <td>recurrence-events</td>\n",
       "      <td>40-49</td>\n",
       "      <td>ge40</td>\n",
       "      <td>30-34</td>\n",
       "      <td>3-5</td>\n",
       "      <td>no</td>\n",
       "      <td>3</td>\n",
       "      <td>left</td>\n",
       "      <td>left_low</td>\n",
       "      <td>no</td>\n",
       "    </tr>\n",
       "    <tr>\n",
       "      <th>285</th>\n",
       "      <td>recurrence-events</td>\n",
       "      <td>50-59</td>\n",
       "      <td>ge40</td>\n",
       "      <td>30-34</td>\n",
       "      <td>3-5</td>\n",
       "      <td>no</td>\n",
       "      <td>3</td>\n",
       "      <td>left</td>\n",
       "      <td>left_low</td>\n",
       "      <td>no</td>\n",
       "    </tr>\n",
       "  </tbody>\n",
       "</table>\n",
       "<p>286 rows × 10 columns</p>\n",
       "</div>"
      ],
      "text/plain": [
       "                    clase   edad menopausia tamaño_tumor inv_nodos nodo_caps  \\\n",
       "0    no-recurrence-events  30-39    premeno        30-34       0-2        no   \n",
       "1    no-recurrence-events  40-49    premeno        20-24       0-2        no   \n",
       "2    no-recurrence-events  40-49    premeno        20-24       0-2        no   \n",
       "3    no-recurrence-events  60-69       ge40        15-19       0-2        no   \n",
       "4    no-recurrence-events  40-49    premeno          0-4       0-2        no   \n",
       "..                    ...    ...        ...          ...       ...       ...   \n",
       "281     recurrence-events  30-39    premeno        30-34       0-2        no   \n",
       "282     recurrence-events  30-39    premeno        20-24       0-2        no   \n",
       "283     recurrence-events  60-69       ge40        20-24       0-2        no   \n",
       "284     recurrence-events  40-49       ge40        30-34       3-5        no   \n",
       "285     recurrence-events  50-59       ge40        30-34       3-5        no   \n",
       "\n",
       "     deg-malig  pecho    pecho_c irradiat  \n",
       "0            3   left   left_low       no  \n",
       "1            2  right   right_up       no  \n",
       "2            2   left   left_low       no  \n",
       "3            2  right    left_up       no  \n",
       "4            2  right  right_low       no  \n",
       "..         ...    ...        ...      ...  \n",
       "281          2   left    left_up       no  \n",
       "282          3   left    left_up      yes  \n",
       "283          1  right    left_up       no  \n",
       "284          3   left   left_low       no  \n",
       "285          3   left   left_low       no  \n",
       "\n",
       "[286 rows x 10 columns]"
      ]
     },
     "execution_count": 2,
     "metadata": {},
     "output_type": "execute_result"
    }
   ],
   "source": [
    "datos = pd.read_table('breast-cancer.data', sep=',', header=None,\n",
    "                     names=['clase', 'edad', 'menopausia', 'tamaño_tumor', 'inv_nodos',\n",
    "                            'nodo_caps','deg-malig', 'pecho', 'pecho_c', 'irradiat'])\n",
    "datos"
   ]
  },
  {
   "cell_type": "code",
   "execution_count": 3,
   "id": "82193b3d",
   "metadata": {},
   "outputs": [
    {
     "data": {
      "text/plain": [
       "clase\n",
       "no-recurrence-events    201\n",
       "recurrence-events        85\n",
       "dtype: int64"
      ]
     },
     "execution_count": 3,
     "metadata": {},
     "output_type": "execute_result"
    },
    {
     "data": {
      "image/png": "[encoded data removed]",
      "text/plain": [
       "<Figure size 432x288 with 1 Axes>"
      ]
     },
     "metadata": {
      "needs_background": "light"
     },
     "output_type": "display_data"
    }
   ],
   "source": [
    "#Graficar los casos de recurrencia y no recurrencia \n",
    "recurr = datos.groupby('clase').size()\n",
    "sns.barplot(x = recurr.index, y = recurr.values)\n",
    "plt.title(\"Recurrencia en cáncer de mama\")\n",
    "plt.savefig('recurrencia.png')\n",
    "recurr"
   ]
  },
  {
   "cell_type": "markdown",
   "id": "f2c57e83",
   "metadata": {},
   "source": [
    "### Preprocesamiento de datos"
   ]
  },
  {
   "cell_type": "code",
   "execution_count": 4,
   "id": "827fc5b2",
   "metadata": {},
   "outputs": [
    {
     "data": {
      "text/html": [
       "<div>\n",
       "<style scoped>\n",
       "    .dataframe tbody tr th:only-of-type {\n",
       "        vertical-align: middle;\n",
       "    }\n",
       "\n",
       "    .dataframe tbody tr th {\n",
       "        vertical-align: top;\n",
       "    }\n",
       "\n",
       "    .dataframe thead th {\n",
       "        text-align: right;\n",
       "    }\n",
       "</style>\n",
       "<table border=\"1\" class=\"dataframe\">\n",
       "  <thead>\n",
       "    <tr style=\"text-align: right;\">\n",
       "      <th></th>\n",
       "      <th>clase</th>\n",
       "      <th>edad</th>\n",
       "      <th>menopausia</th>\n",
       "      <th>tamaño_tumor</th>\n",
       "      <th>inv_nodos</th>\n",
       "      <th>nodo_caps</th>\n",
       "      <th>deg-malig</th>\n",
       "      <th>pecho</th>\n",
       "      <th>pecho_c</th>\n",
       "      <th>irradiat</th>\n",
       "    </tr>\n",
       "  </thead>\n",
       "  <tbody>\n",
       "    <tr>\n",
       "      <th>0</th>\n",
       "      <td>0</td>\n",
       "      <td>30-39</td>\n",
       "      <td>premeno</td>\n",
       "      <td>30-34</td>\n",
       "      <td>0-2</td>\n",
       "      <td>no</td>\n",
       "      <td>3</td>\n",
       "      <td>left</td>\n",
       "      <td>left_low</td>\n",
       "      <td>no</td>\n",
       "    </tr>\n",
       "    <tr>\n",
       "      <th>1</th>\n",
       "      <td>0</td>\n",
       "      <td>40-49</td>\n",
       "      <td>premeno</td>\n",
       "      <td>20-24</td>\n",
       "      <td>0-2</td>\n",
       "      <td>no</td>\n",
       "      <td>2</td>\n",
       "      <td>right</td>\n",
       "      <td>right_up</td>\n",
       "      <td>no</td>\n",
       "    </tr>\n",
       "    <tr>\n",
       "      <th>2</th>\n",
       "      <td>0</td>\n",
       "      <td>40-49</td>\n",
       "      <td>premeno</td>\n",
       "      <td>20-24</td>\n",
       "      <td>0-2</td>\n",
       "      <td>no</td>\n",
       "      <td>2</td>\n",
       "      <td>left</td>\n",
       "      <td>left_low</td>\n",
       "      <td>no</td>\n",
       "    </tr>\n",
       "    <tr>\n",
       "      <th>3</th>\n",
       "      <td>0</td>\n",
       "      <td>60-69</td>\n",
       "      <td>ge40</td>\n",
       "      <td>15-19</td>\n",
       "      <td>0-2</td>\n",
       "      <td>no</td>\n",
       "      <td>2</td>\n",
       "      <td>right</td>\n",
       "      <td>left_up</td>\n",
       "      <td>no</td>\n",
       "    </tr>\n",
       "    <tr>\n",
       "      <th>4</th>\n",
       "      <td>0</td>\n",
       "      <td>40-49</td>\n",
       "      <td>premeno</td>\n",
       "      <td>0-4</td>\n",
       "      <td>0-2</td>\n",
       "      <td>no</td>\n",
       "      <td>2</td>\n",
       "      <td>right</td>\n",
       "      <td>right_low</td>\n",
       "      <td>no</td>\n",
       "    </tr>\n",
       "    <tr>\n",
       "      <th>...</th>\n",
       "      <td>...</td>\n",
       "      <td>...</td>\n",
       "      <td>...</td>\n",
       "      <td>...</td>\n",
       "      <td>...</td>\n",
       "      <td>...</td>\n",
       "      <td>...</td>\n",
       "      <td>...</td>\n",
       "      <td>...</td>\n",
       "      <td>...</td>\n",
       "    </tr>\n",
       "    <tr>\n",
       "      <th>281</th>\n",
       "      <td>1</td>\n",
       "      <td>30-39</td>\n",
       "      <td>premeno</td>\n",
       "      <td>30-34</td>\n",
       "      <td>0-2</td>\n",
       "      <td>no</td>\n",
       "      <td>2</td>\n",
       "      <td>left</td>\n",
       "      <td>left_up</td>\n",
       "      <td>no</td>\n",
       "    </tr>\n",
       "    <tr>\n",
       "      <th>282</th>\n",
       "      <td>1</td>\n",
       "      <td>30-39</td>\n",
       "      <td>premeno</td>\n",
       "      <td>20-24</td>\n",
       "      <td>0-2</td>\n",
       "      <td>no</td>\n",
       "      <td>3</td>\n",
       "      <td>left</td>\n",
       "      <td>left_up</td>\n",
       "      <td>yes</td>\n",
       "    </tr>\n",
       "    <tr>\n",
       "      <th>283</th>\n",
       "      <td>1</td>\n",
       "      <td>60-69</td>\n",
       "      <td>ge40</td>\n",
       "      <td>20-24</td>\n",
       "      <td>0-2</td>\n",
       "      <td>no</td>\n",
       "      <td>1</td>\n",
       "      <td>right</td>\n",
       "      <td>left_up</td>\n",
       "      <td>no</td>\n",
       "    </tr>\n",
       "    <tr>\n",
       "      <th>284</th>\n",
       "      <td>1</td>\n",
       "      <td>40-49</td>\n",
       "      <td>ge40</td>\n",
       "      <td>30-34</td>\n",
       "      <td>3-5</td>\n",
       "      <td>no</td>\n",
       "      <td>3</td>\n",
       "      <td>left</td>\n",
       "      <td>left_low</td>\n",
       "      <td>no</td>\n",
       "    </tr>\n",
       "    <tr>\n",
       "      <th>285</th>\n",
       "      <td>1</td>\n",
       "      <td>50-59</td>\n",
       "      <td>ge40</td>\n",
       "      <td>30-34</td>\n",
       "      <td>3-5</td>\n",
       "      <td>no</td>\n",
       "      <td>3</td>\n",
       "      <td>left</td>\n",
       "      <td>left_low</td>\n",
       "      <td>no</td>\n",
       "    </tr>\n",
       "  </tbody>\n",
       "</table>\n",
       "<p>286 rows × 10 columns</p>\n",
       "</div>"
      ],
      "text/plain": [
       "     clase   edad menopausia tamaño_tumor inv_nodos nodo_caps  deg-malig  \\\n",
       "0        0  30-39    premeno        30-34       0-2        no          3   \n",
       "1        0  40-49    premeno        20-24       0-2        no          2   \n",
       "2        0  40-49    premeno        20-24       0-2        no          2   \n",
       "3        0  60-69       ge40        15-19       0-2        no          2   \n",
       "4        0  40-49    premeno          0-4       0-2        no          2   \n",
       "..     ...    ...        ...          ...       ...       ...        ...   \n",
       "281      1  30-39    premeno        30-34       0-2        no          2   \n",
       "282      1  30-39    premeno        20-24       0-2        no          3   \n",
       "283      1  60-69       ge40        20-24       0-2        no          1   \n",
       "284      1  40-49       ge40        30-34       3-5        no          3   \n",
       "285      1  50-59       ge40        30-34       3-5        no          3   \n",
       "\n",
       "     pecho    pecho_c irradiat  \n",
       "0     left   left_low       no  \n",
       "1    right   right_up       no  \n",
       "2     left   left_low       no  \n",
       "3    right    left_up       no  \n",
       "4    right  right_low       no  \n",
       "..     ...        ...      ...  \n",
       "281   left    left_up       no  \n",
       "282   left    left_up      yes  \n",
       "283  right    left_up       no  \n",
       "284   left   left_low       no  \n",
       "285   left   left_low       no  \n",
       "\n",
       "[286 rows x 10 columns]"
      ]
     },
     "execution_count": 4,
     "metadata": {},
     "output_type": "execute_result"
    }
   ],
   "source": [
    "#Etiquetar con 0 a la no recurrencia y 1 a la recurrencia\n",
    "datos=datos.replace({\"recurrence-events\": 1, \"no-recurrence-events\": 0})\n",
    "datos"
   ]
  },
  {
   "cell_type": "code",
   "execution_count": 5,
   "id": "5ebb8c82",
   "metadata": {},
   "outputs": [],
   "source": [
    "le = preprocessing.LabelEncoder()\n",
    "datos['edad']= le.fit_transform(datos['edad']) \n",
    "datos['menopausia']= le.fit_transform(datos['menopausia'])\n",
    "datos['tamaño_tumor']= le.fit_transform(datos['tamaño_tumor'])\n",
    "datos['inv_nodos']= le.fit_transform(datos['inv_nodos']) \n",
    "datos['nodo_caps']= le.fit_transform(datos['nodo_caps']) \n",
    "datos['deg-malig']= le.fit_transform(datos['deg-malig']) \n",
    "datos['pecho']= le.fit_transform(datos['pecho']) \n",
    "datos['pecho_c']= le.fit_transform(datos['pecho_c']) \n",
    "datos['irradiat']= le.fit_transform(datos['irradiat']) "
   ]
  },
  {
   "cell_type": "code",
   "execution_count": 6,
   "id": "05824ff9",
   "metadata": {},
   "outputs": [],
   "source": [
    "#definir x y y \n",
    "x = datos.iloc[:,1:9].values\n",
    "y = datos.iloc[:,0].values\n",
    "#dividir los datos\n",
    "xTrain,xTest,yTrain,yTest = train_test_split(x, y, test_size=0.30,random_state=0)\n",
    "#estandarizar las escalas \n",
    "sc = StandardScaler()\n",
    "xTrain = sc.fit_transform(xTrain)\n",
    "xTest = sc.fit_transform(xTest)"
   ]
  },
  {
   "cell_type": "markdown",
   "id": "214c0150",
   "metadata": {},
   "source": [
    "# kNN"
   ]
  },
  {
   "cell_type": "code",
   "execution_count": 44,
   "id": "c03b5e4b",
   "metadata": {},
   "outputs": [
    {
     "data": {
      "image/png": "[encoded data removed]",
      "text/plain": [
       "<Figure size 432x288 with 1 Axes>"
      ]
     },
     "metadata": {
      "needs_background": "light"
     },
     "output_type": "display_data"
    }
   ],
   "source": [
    "#entrenar al modelo \n",
    "K = list()\n",
    "training = list()\n",
    "test = list()\n",
    "scores = {}\n",
    "  \n",
    "for k in range(2, 17):\n",
    "    clsf = KNeighborsClassifier(n_neighbors = k)\n",
    "    clsf.fit(xTrain, yTrain)\n",
    "    training_score = clsf.score(xTrain, yTrain)\n",
    "    test_score = clsf.score(xTest, yTest)\n",
    "    K.append(k)\n",
    "  \n",
    "    training.append(training_score)\n",
    "    test.append(test_score)\n",
    "    scores[k] = [training_score, test_score]\n",
    "\n",
    "#graficar los puntajes de cada valor de k\n",
    "plt.scatter(K, training, c='r', label='Training')\n",
    "plt.scatter(K, test, c='b', label='Test')\n",
    "plt.xlabel('Values of k')\n",
    "plt.ylabel('Score')\n",
    "plt.legend(loc='upper right')\n",
    "#plt.show()\n",
    "plt.savefig('ValuesOfK.png')"
   ]
  },
  {
   "cell_type": "code",
   "execution_count": 9,
   "id": "ea681469",
   "metadata": {},
   "outputs": [
    {
     "data": {
      "text/plain": [
       "KNeighborsClassifier(n_neighbors=9)"
      ]
     },
     "execution_count": 9,
     "metadata": {},
     "output_type": "execute_result"
    }
   ],
   "source": [
    "#Modelo con k=9\n",
    "classifier = KNeighborsClassifier(n_neighbors = 9, metric = 'minkowski', p =2)\n",
    "classifier.fit(xTrain, yTrain)"
   ]
  },
  {
   "cell_type": "code",
   "execution_count": 10,
   "id": "588a4857",
   "metadata": {},
   "outputs": [
    {
     "name": "stdout",
     "output_type": "stream",
     "text": [
      "              precision    recall  f1-score   support\n",
      "\n",
      "           0       0.96      0.71      0.82        75\n",
      "           1       0.29      0.82      0.43        11\n",
      "\n",
      "    accuracy                           0.72        86\n",
      "   macro avg       0.63      0.76      0.62        86\n",
      "weighted avg       0.88      0.72      0.77        86\n",
      "\n",
      "accuracy_score 0.7209302325581395\n"
     ]
    }
   ],
   "source": [
    "#predicciones\n",
    "y_pred = classifier.predict(xTest)\n",
    "y_pred_prob = classifier.predict_proba(xTest)\n",
    "n_prob = [0 for _ in range(len(yTest))] #probabilidad nula \n",
    "y_pred_prob = y_pred_prob[:, 1] #Probabilidades para resultado positivo\n",
    "\n",
    "#reporte\n",
    "report = classification_report(y_pred,yTest)\n",
    "print(report)\n",
    "score = accuracy_score(y_pred, yTest)\n",
    "print('accuracy_score',score)"
   ]
  },
  {
   "cell_type": "code",
   "execution_count": 11,
   "id": "185c8cd7",
   "metadata": {},
   "outputs": [
    {
     "data": {
      "image/png": "[encoded data removed]",
      "text/plain": [
       "<Figure size 576x576 with 2 Axes>"
      ]
     },
     "metadata": {
      "needs_background": "light"
     },
     "output_type": "display_data"
    }
   ],
   "source": [
    "#Crear matriz de confusion \n",
    "mc = confusion_matrix(yTest, y_pred)\n",
    "#graficar matriz de confusión\n",
    "plt.figure(figsize=(8,8))\n",
    "sns.heatmap(mc, annot=True, fmt=\".3f\", linewidths=.5, square = True, cmap = 'pink')\n",
    "plt.ylabel('True label')\n",
    "plt.xlabel('Predicted label')\n",
    "title = 'Accuracy Score: {0}'.format(score)\n",
    "plt.title(title, size = 12)\n",
    "#plt.show()\n",
    "plt.savefig('mcKNN.png')"
   ]
  },
  {
   "cell_type": "code",
   "execution_count": 45,
   "id": "f890d12e",
   "metadata": {},
   "outputs": [
    {
     "name": "stdout",
     "output_type": "stream",
     "text": [
      "No Skill: ROC AUC=0.500\n",
      "Model: ROC AUC=0.701\n"
     ]
    },
    {
     "data": {
      "image/png": "[encoded data removed]",
      "text/plain": [
       "<Figure size 432x288 with 1 Axes>"
      ]
     },
     "metadata": {
      "needs_background": "light"
     },
     "output_type": "display_data"
    }
   ],
   "source": [
    "#curva ROC \n",
    "n_auc = roc_auc_score(yTest, n_prob)\n",
    "y_auc = roc_auc_score(yTest, y_pred_prob)\n",
    "print('No Skill: ROC AUC=%.3f' % (n_auc))\n",
    "print('Model: ROC AUC=%.3f' % (y_auc))\n",
    "n_fpr, n_tpr, _ = roc_curve(yTest, n_prob)\n",
    "y_fpr, y_tpr, _ = roc_curve(yTest, y_pred_prob)\n",
    "#graficar la curva roc del modelo\n",
    "plt.plot(n_fpr, n_tpr, linestyle='--', label='No Skill')\n",
    "plt.plot(y_fpr, y_tpr, marker='.', label='Model')\n",
    "plt.xlabel('False Positive Rate')\n",
    "plt.ylabel('True Positive Rate')\n",
    "plt.legend()\n",
    "#plt.show()\n",
    "plt.savefig('RocKNN.png')"
   ]
  },
  {
   "cell_type": "markdown",
   "id": "cf78cb28",
   "metadata": {},
   "source": [
    "## SVM"
   ]
  },
  {
   "cell_type": "code",
   "execution_count": 13,
   "id": "5bf43f19",
   "metadata": {},
   "outputs": [
    {
     "data": {
      "text/plain": [
       "SVC(C=0.1, kernel='linear', probability=True, random_state=0)"
      ]
     },
     "execution_count": 13,
     "metadata": {},
     "output_type": "execute_result"
    }
   ],
   "source": [
    "#modelo\n",
    "svm = SVC(kernel= 'linear', random_state=0, C=0.1, probability=True)\n",
    "svm.fit(xTrain, yTrain)"
   ]
  },
  {
   "cell_type": "code",
   "execution_count": 14,
   "id": "7738c7a3",
   "metadata": {},
   "outputs": [
    {
     "name": "stdout",
     "output_type": "stream",
     "text": [
      "              precision    recall  f1-score   support\n",
      "\n",
      "           0       0.91      0.71      0.80        70\n",
      "           1       0.35      0.69      0.47        16\n",
      "\n",
      "    accuracy                           0.71        86\n",
      "   macro avg       0.63      0.70      0.63        86\n",
      "weighted avg       0.81      0.71      0.74        86\n",
      "\n",
      "accuracy_score 0.7093023255813954\n"
     ]
    }
   ],
   "source": [
    "#predicciones\n",
    "y_pred1 = svm.predict(xTest)\n",
    "y_pred_prob1 = svm.predict_proba(xTest)\n",
    "n_prob = [0 for _ in range(len(yTest))] #probabilidad nula \n",
    "y_pred_prob1 = y_pred_prob1[:, 1] #Probabilidades para resultado positivo\n",
    "\n",
    "#reporte\n",
    "report1 = classification_report(y_pred1,yTest)\n",
    "print(report1)\n",
    "score = accuracy_score(y_pred1, yTest)\n",
    "print('accuracy_score',score)"
   ]
  },
  {
   "cell_type": "code",
   "execution_count": 15,
   "id": "4f1bbe05",
   "metadata": {},
   "outputs": [
    {
     "data": {
      "image/png": "[encoded data removed]",
      "text/plain": [
       "<Figure size 576x576 with 2 Axes>"
      ]
     },
     "metadata": {
      "needs_background": "light"
     },
     "output_type": "display_data"
    }
   ],
   "source": [
    "#crear matriz de confusion\n",
    "cm = confusion_matrix(yTest, y_pred1)\n",
    "#graficar matriz de confusión\n",
    "plt.figure(figsize=(8,8))\n",
    "sns.heatmap(cm, annot=True, fmt=\".3f\", linewidths=.5, square = True, cmap = 'pink')\n",
    "plt.ylabel('True label')\n",
    "plt.xlabel('Predicted label')\n",
    "title = 'Accuracy Score: {0}'.format(score)\n",
    "plt.title(title, size = 12)\n",
    "#plt.show()\n",
    "plt.savefig('mcSVM.png')"
   ]
  },
  {
   "cell_type": "code",
   "execution_count": 46,
   "id": "3a56db13",
   "metadata": {},
   "outputs": [
    {
     "name": "stdout",
     "output_type": "stream",
     "text": [
      "No Skill: ROC AUC=0.500\n",
      "Model: ROC AUC=0.672\n"
     ]
    },
    {
     "data": {
      "image/png": "[encoded data removed]",
      "text/plain": [
       "<Figure size 432x288 with 1 Axes>"
      ]
     },
     "metadata": {
      "needs_background": "light"
     },
     "output_type": "display_data"
    }
   ],
   "source": [
    "#curva ROC \n",
    "n_auc1 = roc_auc_score(yTest, n_prob)\n",
    "y_auc1 = roc_auc_score(yTest, y_pred_prob1)\n",
    "print('No Skill: ROC AUC=%.3f' % (n_auc1))\n",
    "print('Model: ROC AUC=%.3f' % (y_auc1))\n",
    "n_fpr, n_tpr, _ = roc_curve(yTest, n_prob)\n",
    "y_fpr, y_tpr, _ = roc_curve(yTest, y_pred_prob1)\n",
    "#graficar la curva roc del modelo\n",
    "plt.plot(n_fpr, n_tpr, linestyle='--', label='No Skill')\n",
    "plt.plot(y_fpr, y_tpr, marker='.', label='Model')\n",
    "plt.xlabel('False Positive Rate')\n",
    "plt.ylabel('True Positive Rate')\n",
    "plt.legend()\n",
    "#plt.show()\n",
    "plt.savefig('RocSVM.png')"
   ]
  },
  {
   "cell_type": "markdown",
   "id": "67d64418",
   "metadata": {},
   "source": [
    "## Logistic Regression"
   ]
  },
  {
   "cell_type": "code",
   "execution_count": 17,
   "id": "c2b4b305",
   "metadata": {},
   "outputs": [
    {
     "data": {
      "text/plain": [
       "LogisticRegression()"
      ]
     },
     "execution_count": 17,
     "metadata": {},
     "output_type": "execute_result"
    }
   ],
   "source": [
    "#modelo\n",
    "lr = LogisticRegression()\n",
    "lr.fit(xTrain, yTrain)"
   ]
  },
  {
   "cell_type": "code",
   "execution_count": 18,
   "id": "f30f9bf8",
   "metadata": {},
   "outputs": [
    {
     "name": "stdout",
     "output_type": "stream",
     "text": [
      "              precision    recall  f1-score   support\n",
      "\n",
      "           0       0.91      0.71      0.80        70\n",
      "           1       0.35      0.69      0.47        16\n",
      "\n",
      "    accuracy                           0.71        86\n",
      "   macro avg       0.63      0.70      0.63        86\n",
      "weighted avg       0.81      0.71      0.74        86\n",
      "\n",
      "accuracy_score 0.6976744186046512\n"
     ]
    }
   ],
   "source": [
    "#predicciones\n",
    "y_pred2 = lr.predict(xTest)\n",
    "y_pred_prob2 = lr.predict_proba(xTest)\n",
    "n_prob = [0 for _ in range(len(yTest))] #probabilidad nula \n",
    "y_pred_prob2 = y_pred_prob2[:, 1] #Probabilidades para resultado positivo\n",
    "\n",
    "#reporte\n",
    "report2 = classification_report(y_pred1,yTest)\n",
    "print(report2)\n",
    "score = accuracy_score(y_pred2, yTest)\n",
    "print('accuracy_score',score)"
   ]
  },
  {
   "cell_type": "code",
   "execution_count": 19,
   "id": "eb6f2905",
   "metadata": {},
   "outputs": [
    {
     "data": {
      "image/png": "[encoded data removed]",
      "text/plain": [
       "<Figure size 576x576 with 2 Axes>"
      ]
     },
     "metadata": {
      "needs_background": "light"
     },
     "output_type": "display_data"
    }
   ],
   "source": [
    "#crear matriz de confusión\n",
    "cm = metrics.confusion_matrix(yTest, y_pred2)\n",
    "#graficar cm \n",
    "plt.figure(figsize=(8,8))\n",
    "sns.heatmap(cm, annot=True, fmt=\".3f\", linewidths=.5, square = True, cmap = 'pink');\n",
    "plt.ylabel('True label')\n",
    "plt.xlabel('Predicted label')\n",
    "title = 'Accuracy Score: {0}'.format(score)\n",
    "plt.title(title, size = 12)\n",
    "#plt.show()\n",
    "plt.savefig('mcLR.png')"
   ]
  },
  {
   "cell_type": "code",
   "execution_count": 42,
   "id": "0079e8ac",
   "metadata": {},
   "outputs": [
    {
     "name": "stdout",
     "output_type": "stream",
     "text": [
      "No Skill: ROC AUC=0.500\n",
      "Model: ROC AUC=0.728\n"
     ]
    },
    {
     "data": {
      "image/png": "[encoded data removed]",
      "text/plain": [
       "<Figure size 432x288 with 1 Axes>"
      ]
     },
     "metadata": {
      "needs_background": "light"
     },
     "output_type": "display_data"
    }
   ],
   "source": [
    "#curva ROC \n",
    "n_auc2 = roc_auc_score(yTest, n_prob)\n",
    "y_auc2 = roc_auc_score(yTest, y_pred_prob2)\n",
    "print('No Skill: ROC AUC=%.3f' % (n_auc2))\n",
    "print('Model: ROC AUC=%.3f' % (y_auc2))\n",
    "n_fpr, n_tpr, _ = roc_curve(yTest, n_prob)\n",
    "y_fpr, y_tpr, _ = roc_curve(yTest, y_pred_prob2)\n",
    "#graficar la curva roc del modelo\n",
    "plt.plot(n_fpr, n_tpr, linestyle='--', label='No Skill')\n",
    "plt.plot(y_fpr, y_tpr, marker='.', label='Model')\n",
    "plt.xlabel('False Positive Rate')\n",
    "plt.ylabel('True Positive Rate')\n",
    "plt.legend()\n",
    "#plt.show()\n",
    "plt.savefig('RocLogisticRegr.png')"
   ]
  },
  {
   "cell_type": "code",
   "execution_count": null,
   "id": "baa5db4e",
   "metadata": {},
   "outputs": [],
   "source": []
  },
  {
   "cell_type": "markdown",
   "id": "660deb5b",
   "metadata": {},
   "source": [
    "### Validación cruzada"
   ]
  },
  {
   "cell_type": "code",
   "execution_count": 49,
   "id": "41878f3b",
   "metadata": {},
   "outputs": [
    {
     "name": "stdout",
     "output_type": "stream",
     "text": [
      "kNN: 0.690000 (0.086023)\n",
      "SVM: 0.760000 (0.109087)\n",
      "LR: 0.730000 (0.124900)\n"
     ]
    },
    {
     "data": {
      "image/png": "[encoded data removed]",
      "text/plain": [
       "<Figure size 432x288 with 1 Axes>"
      ]
     },
     "metadata": {
      "needs_background": "light"
     },
     "output_type": "display_data"
    }
   ],
   "source": [
    "models = list()\n",
    "models.append(('kNN', KNeighborsClassifier()))\n",
    "models.append(('SVM', SVC()))\n",
    "models.append(('LR', LogisticRegression()))\n",
    "#evaluar cada modelo\n",
    "results = list()\n",
    "names = list()\n",
    "for name, model in models:\n",
    "    kfold = model_selection.KFold(n_splits=10, random_state=0, shuffle=True)\n",
    "    cv_results = model_selection.cross_val_score(model, xTrain, yTrain, cv=kfold, scoring='accuracy')\n",
    "    results.append(cv_results)\n",
    "    names.append(name)\n",
    "    print(\"%s: %f (%f)\" %(name, cv_results.mean(), cv_results.std()))\n",
    "    \n",
    "#comparación de algoritmos \n",
    "fig = plt.figure()\n",
    "fig.suptitle('Comparación de algoritmos')\n",
    "ax = fig.add_subplot(111)\n",
    "plt.boxplot(results)\n",
    "ax.set_xticklabels(names)\n",
    "#plt.show()\n",
    "plt.savefig('comparacion.png')"
   ]
  },
  {
   "cell_type": "code",
   "execution_count": null,
   "id": "63ce785a",
   "metadata": {},
   "outputs": [],
   "source": []
  }
 ],
 "metadata": {
  "kernelspec": {
   "display_name": "Python 3",
   "language": "python",
   "name": "python3"
  },
  "language_info": {
   "codemirror_mode": {
    "name": "ipython",
    "version": 3
   },
   "file_extension": ".py",
   "mimetype": "text/x-python",
   "name": "python",
   "nbconvert_exporter": "python",
   "pygments_lexer": "ipython3",
   "version": "3.8.8"
  }
 },
 "nbformat": 4,
 "nbformat_minor": 5
}
